{
  "cells": [
    {
      "cell_type": "markdown",
      "metadata": {
        "id": "view-in-github",
        "colab_type": "text"
      },
      "source": [
        "<a href=\"https://colab.research.google.com/github/Mustafa-Muhibullah/machine_learning_class/blob/main/00_Exercise0_Mad_Astronomer_Muhibullah.ipynb\" target=\"_parent\"><img src=\"https://colab.research.google.com/assets/colab-badge.svg\" alt=\"Open In Colab\"/></a>"
      ]
    },
    {
      "cell_type": "markdown",
      "metadata": {
        "id": "VkmpJVud5w7x"
      },
      "source": [
        "# Exercise 0\n",
        "Due date: 2022-01-25\n",
        "\n",
        "This is the zeroth exercise just to review python and show you how to submit exercises.\n",
        "\n",
        "File name convention: For group 42 and memebers Richard Stallman and Linus Torvalds it would be \n",
        "\"00_Exercise0_Goup42_Stallman_Torvalds.pdf\".\n",
        "Just give yourself a funny group name for this exercise!\n",
        "\n",
        "Submission via blackboard everyone individually (for this exercise)."
      ]
    },
    {
      "cell_type": "code",
      "execution_count": 36,
      "metadata": {
        "id": "Nbw5dbOU5evO"
      },
      "outputs": [],
      "source": [
        "group_name = \"insert group name\"\n",
        "group_members = [\"name 1\", \n",
        "         \"name 2\", \n",
        "         \"name 3\"]"
      ]
    },
    {
      "cell_type": "markdown",
      "metadata": {
        "id": "O30lbzJtvneK"
      },
      "source": [
        "<table align=\"left\">\n",
        "  <td>\n",
        "    <a target=\"_blank\" href=\"https://colab.research.google.com/github/UAPH4582/PH482_582_Sp22/blob/main/Exercises/00_PythonPrimer.ipynb\"><img src=\"https://www.tensorflow.org/images/colab_logo_32px.png\" />Run in Google Colab</a>\n",
        "  </td>\n",
        "</table>"
      ]
    },
    {
      "cell_type": "markdown",
      "metadata": {
        "id": "deYp705h6i67"
      },
      "source": [
        "## Functions"
      ]
    },
    {
      "cell_type": "markdown",
      "metadata": {
        "id": "B_XV58dJ6k9I"
      },
      "source": [
        "### Task 1\n",
        "Write a function `subtract` that takes two numbers `a` and `b` and returns `a-b`."
      ]
    },
    {
      "cell_type": "code",
      "execution_count": 76,
      "metadata": {
        "id": "Amed__UC5_YG"
      },
      "outputs": [],
      "source": [
        "# your code goes below\n",
        "# ↓↓↓↓↓↓↓↓↓↓↓↓↓↓↓↓↓↓↓↓↓↓↓↓↓↓↓↓↓↓↓"
      ]
    },
    {
      "cell_type": "code",
      "execution_count": 77,
      "metadata": {
        "id": "CSleUNYp6z1b"
      },
      "outputs": [],
      "source": [
        "def subtract(a,b):\n",
        "  c = a-b\n",
        "  return c"
      ]
    },
    {
      "cell_type": "code",
      "execution_count": 78,
      "metadata": {
        "id": "06P-aOvX62ic"
      },
      "outputs": [],
      "source": [
        "# ↑↑↑↑↑↑↑↑↑↑↑↑↑↑↑↑↑↑↑↑↑↑↑↑↑↑↑↑↑↑↑\n",
        "# your code goes above this"
      ]
    },
    {
      "cell_type": "code",
      "execution_count": 79,
      "metadata": {
        "id": "U2hMGCaK63Ky",
        "outputId": "9c975c7d-cb1a-44a1-9019-524d1d68ae58",
        "colab": {
          "base_uri": "https://localhost:8080/"
        }
      },
      "outputs": [
        {
          "output_type": "execute_result",
          "data": {
            "text/plain": [
              "True"
            ]
          },
          "metadata": {},
          "execution_count": 79
        }
      ],
      "source": [
        "# testing if the function is working\n",
        "subtract(3, 5) == -2"
      ]
    },
    {
      "cell_type": "markdown",
      "metadata": {
        "id": "9qVx_wmd7G2F"
      },
      "source": [
        "### Task 2\n",
        "a) Write a function `fac_it` that calculates the factorial in an iterative way.   \n",
        "b) (optional) Write a function `fac_rec` that computes the factorial in a recursive way.\n",
        "\n",
        "**Hints**    \n",
        "a) Set a variable `fac = 1`, loop over `i in range(2,n+1)` and in the loop muliply `fac` by `i`.   \n",
        "b) The trick is to set the cases for `n=0` and `n=1` and then call something like `n*fac_rec(n-1)`.   "
      ]
    },
    {
      "cell_type": "code",
      "execution_count": 80,
      "metadata": {
        "id": "CBqfGSHV9YuB"
      },
      "outputs": [],
      "source": [
        "# your code goes below\n",
        "# ↓↓↓↓↓↓↓↓↓↓↓↓↓↓↓↓↓↓↓↓↓↓↓↓↓↓↓↓↓↓↓"
      ]
    },
    {
      "cell_type": "code",
      "execution_count": 81,
      "metadata": {
        "id": "ozMIzXif7tPZ"
      },
      "outputs": [],
      "source": [
        "def fac_it(n):\n",
        "  fac = 1\n",
        "  for i in range(2,n+1):\n",
        "    fac = fac*i\n",
        "  return fac"
      ]
    },
    {
      "cell_type": "code",
      "execution_count": 82,
      "metadata": {
        "id": "xDHlomVB7Rwr"
      },
      "outputs": [],
      "source": [
        "def fac_rec(n):\n",
        "  if n==0 or n==1:\n",
        "    fac = 1\n",
        "  else:\n",
        "    fac = n*fac_rec(n-1)\n",
        "  return fac"
      ]
    },
    {
      "cell_type": "code",
      "execution_count": 83,
      "metadata": {
        "colab": {
          "base_uri": "https://localhost:8080/"
        },
        "id": "lICjugqi768J",
        "outputId": "9c6c6be7-607f-4b96-c6f0-737bf3042f29"
      },
      "outputs": [
        {
          "output_type": "stream",
          "name": "stdout",
          "text": [
            "True\n",
            "True\n"
          ]
        }
      ],
      "source": [
        "print(fac_rec(3) == 6)\n",
        "print(fac_it(3) == 6)"
      ]
    },
    {
      "cell_type": "code",
      "execution_count": 84,
      "metadata": {
        "id": "3vbOaZNM9W7E"
      },
      "outputs": [],
      "source": [
        "# ↑↑↑↑↑↑↑↑↑↑↑↑↑↑↑↑↑↑↑↑↑↑↑↑↑↑↑↑↑↑↑\n",
        "# your code goes above this"
      ]
    },
    {
      "cell_type": "markdown",
      "metadata": {
        "id": "LfWTIZig9pRU"
      },
      "source": [
        "## Numpy"
      ]
    },
    {
      "cell_type": "code",
      "execution_count": 85,
      "metadata": {
        "id": "WKAlJ8et9w72"
      },
      "outputs": [],
      "source": [
        "import numpy as np"
      ]
    },
    {
      "cell_type": "markdown",
      "metadata": {
        "id": "8Go9iQ_Q-b47"
      },
      "source": [
        "You can read about this dataset [here](https://inria.github.io/scikit-learn-mooc/python_scripts/datasets_california_housing.html).\n",
        "`X` are some features of houses and `y` is the price of the houses in 100k$."
      ]
    },
    {
      "cell_type": "code",
      "execution_count": 86,
      "metadata": {
        "id": "erPAgzVp90JP"
      },
      "outputs": [],
      "source": [
        "from sklearn.datasets import fetch_california_housing\n",
        "\n",
        "california_housing = fetch_california_housing()"
      ]
    },
    {
      "cell_type": "code",
      "execution_count": 87,
      "metadata": {
        "colab": {
          "base_uri": "https://localhost:8080/"
        },
        "id": "WcenRO3A-Kq3",
        "outputId": "9c008b11-eecd-4165-f83c-bd6a91b7f352"
      },
      "outputs": [
        {
          "output_type": "execute_result",
          "data": {
            "text/plain": [
              "dict_keys(['data', 'target', 'frame', 'target_names', 'feature_names', 'DESCR'])"
            ]
          },
          "metadata": {},
          "execution_count": 87
        }
      ],
      "source": [
        "california_housing.keys()"
      ]
    },
    {
      "cell_type": "code",
      "execution_count": 88,
      "metadata": {
        "id": "74VAntmv91zX"
      },
      "outputs": [],
      "source": [
        "X = california_housing['data']\n",
        "y = california_housing['target']"
      ]
    },
    {
      "cell_type": "markdown",
      "metadata": {
        "id": "IwFEK4sl-Z_D"
      },
      "source": [
        ""
      ]
    },
    {
      "cell_type": "markdown",
      "metadata": {
        "id": "eR6VXDET-m_L"
      },
      "source": [
        "### Task 3\n",
        "1) Find out how many instances there are in `X` and `y`. You can use `.shape` or `len`."
      ]
    },
    {
      "cell_type": "code",
      "execution_count": 89,
      "metadata": {
        "id": "AkjBc88RAGCf"
      },
      "outputs": [],
      "source": [
        "# your code goes below\n",
        "# ↓↓↓↓↓↓↓↓↓↓↓↓↓↓↓↓↓↓↓↓↓↓↓↓↓↓↓↓↓↓↓"
      ]
    },
    {
      "cell_type": "code",
      "execution_count": 90,
      "metadata": {
        "id": "i06Jed_L_a13",
        "outputId": "88ea53e5-c7cc-4db4-a019-3fa6c14e9f0f",
        "colab": {
          "base_uri": "https://localhost:8080/"
        }
      },
      "outputs": [
        {
          "output_type": "execute_result",
          "data": {
            "text/plain": [
              "(20640, 8)"
            ]
          },
          "metadata": {},
          "execution_count": 90
        }
      ],
      "source": [
        "X.shape"
      ]
    },
    {
      "cell_type": "code",
      "execution_count": 91,
      "metadata": {
        "id": "0NOk7r9T_eOm",
        "outputId": "0c5b39fb-7f7f-4af0-eca5-5c7e0cbf7658",
        "colab": {
          "base_uri": "https://localhost:8080/"
        }
      },
      "outputs": [
        {
          "output_type": "execute_result",
          "data": {
            "text/plain": [
              "(20640,)"
            ]
          },
          "metadata": {},
          "execution_count": 91
        }
      ],
      "source": [
        "y.shape"
      ]
    },
    {
      "cell_type": "code",
      "execution_count": 92,
      "metadata": {
        "id": "WHikPwgwAN3p"
      },
      "outputs": [],
      "source": [
        "# ↑↑↑↑↑↑↑↑↑↑↑↑↑↑↑↑↑↑↑↑↑↑↑↑↑↑↑↑↑↑↑\n",
        "# your code goes above this"
      ]
    },
    {
      "cell_type": "markdown",
      "metadata": {
        "id": "VGGmAqEw_m7B"
      },
      "source": [
        "2) Make a mask `y_200k_mask` that is `True` whenever the house costs more than or exactly 200k$ and `False` if it costs less."
      ]
    },
    {
      "cell_type": "code",
      "execution_count": 93,
      "metadata": {
        "id": "k_BvlnX2AHFI"
      },
      "outputs": [],
      "source": [
        "# your code goes below\n",
        "# ↓↓↓↓↓↓↓↓↓↓↓↓↓↓↓↓↓↓↓↓↓↓↓↓↓↓↓↓↓↓↓"
      ]
    },
    {
      "cell_type": "code",
      "execution_count": 94,
      "metadata": {
        "id": "_TEdKuid-Qqt"
      },
      "outputs": [],
      "source": [
        "y_200k_mask = y>=2"
      ]
    },
    {
      "cell_type": "code",
      "execution_count": 95,
      "metadata": {
        "id": "qcEtQWkaAPat"
      },
      "outputs": [],
      "source": [
        "# ↑↑↑↑↑↑↑↑↑↑↑↑↑↑↑↑↑↑↑↑↑↑↑↑↑↑↑↑↑↑↑\n",
        "# your code goes above this"
      ]
    },
    {
      "cell_type": "markdown",
      "metadata": {
        "id": "0sp9VfYJ_FYN"
      },
      "source": [
        "3) Use [`Counter`](https://docs.python.org/3/library/collections.html#collections.Counter) to find out how many houses are woth more than 200k$."
      ]
    },
    {
      "cell_type": "code",
      "execution_count": 96,
      "metadata": {
        "id": "gEombWG1_Q-k"
      },
      "outputs": [],
      "source": [
        "from collections import Counter"
      ]
    },
    {
      "cell_type": "code",
      "execution_count": 97,
      "metadata": {
        "id": "AI6zgZtsAJaM"
      },
      "outputs": [],
      "source": [
        "# your code goes below\n",
        "# ↓↓↓↓↓↓↓↓↓↓↓↓↓↓↓↓↓↓↓↓↓↓↓↓↓↓↓↓↓↓↓"
      ]
    },
    {
      "cell_type": "code",
      "execution_count": 98,
      "metadata": {
        "id": "VItJp-cB_IWL",
        "colab": {
          "base_uri": "https://localhost:8080/"
        },
        "outputId": "ae8c2c0c-04ad-4856-e3da-40f2132727e8"
      },
      "outputs": [
        {
          "output_type": "execute_result",
          "data": {
            "text/plain": [
              "Counter({False: 11885, True: 8755})"
            ]
          },
          "metadata": {},
          "execution_count": 98
        }
      ],
      "source": [
        "Counter(y_200k_mask)"
      ]
    },
    {
      "cell_type": "code",
      "execution_count": 99,
      "metadata": {
        "id": "-OdXTKT7ARup"
      },
      "outputs": [],
      "source": [
        "# ↑↑↑↑↑↑↑↑↑↑↑↑↑↑↑↑↑↑↑↑↑↑↑↑↑↑↑↑↑↑↑\n",
        "# your code goes above this"
      ]
    },
    {
      "cell_type": "markdown",
      "metadata": {
        "id": "-4cOvIPUAS1P"
      },
      "source": [
        "By calling `arr[mask]` you can extract only those items from a numpy array where `mask` is `True`.    \n",
        "4) Put all `X` where the price is in `X_200k` and the corresponding `y` in `y_200k`."
      ]
    },
    {
      "cell_type": "code",
      "execution_count": 100,
      "metadata": {
        "id": "hfrnEEaBG4ha"
      },
      "outputs": [],
      "source": [
        "# your code goes below\n",
        "# ↓↓↓↓↓↓↓↓↓↓↓↓↓↓↓↓↓↓↓↓↓↓↓↓↓↓↓↓↓↓↓"
      ]
    },
    {
      "cell_type": "code",
      "execution_count": 101,
      "metadata": {
        "id": "C3WaMGwPA9fl"
      },
      "outputs": [],
      "source": [
        "X_200k = X[y_200k_mask]\n",
        "y_200k = y[y_200k_mask]"
      ]
    },
    {
      "cell_type": "code",
      "execution_count": 102,
      "metadata": {
        "id": "8f0Pm07eG7yz"
      },
      "outputs": [],
      "source": [
        "# ↑↑↑↑↑↑↑↑↑↑↑↑↑↑↑↑↑↑↑↑↑↑↑↑↑↑↑↑↑↑↑\n",
        "# your code goes above this"
      ]
    },
    {
      "cell_type": "markdown",
      "metadata": {
        "id": "ggVKfcDk9l8N"
      },
      "source": [
        "## Pandas Dataframes"
      ]
    },
    {
      "cell_type": "code",
      "execution_count": 103,
      "metadata": {
        "id": "lSJUYS4H9bxS"
      },
      "outputs": [],
      "source": [
        "from sklearn.datasets import fetch_california_housing\n",
        "\n",
        "california_housing_df = fetch_california_housing(as_frame=True)"
      ]
    },
    {
      "cell_type": "code",
      "execution_count": 104,
      "metadata": {
        "id": "6DJKWUvEBRSg"
      },
      "outputs": [],
      "source": [
        "X_df = california_housing_df['data']\n",
        "y_df = california_housing_df['target']"
      ]
    },
    {
      "cell_type": "markdown",
      "metadata": {
        "id": "XeJ-16nGBb2L"
      },
      "source": [
        "### Task 4\n",
        "1) Get a [description](https://pandas.pydata.org/pandas-docs/stable/reference/api/pandas.DataFrame.describe.html) of the `X_df` and `y_df`.   "
      ]
    },
    {
      "cell_type": "code",
      "execution_count": 105,
      "metadata": {
        "id": "3QXsN552CSDf"
      },
      "outputs": [],
      "source": [
        "# your code goes below\n",
        "# ↓↓↓↓↓↓↓↓↓↓↓↓↓↓↓↓↓↓↓↓↓↓↓↓↓↓↓↓↓↓"
      ]
    },
    {
      "cell_type": "code",
      "execution_count": 106,
      "metadata": {
        "id": "wooB5QpoBSeu",
        "colab": {
          "base_uri": "https://localhost:8080/",
          "height": 300
        },
        "outputId": "1a705f6d-9255-4c99-96c6-a96a5005b004"
      },
      "outputs": [
        {
          "output_type": "execute_result",
          "data": {
            "text/html": [
              "\n",
              "  <div id=\"df-df46d400-03b4-46b6-b1e3-06578c955186\">\n",
              "    <div class=\"colab-df-container\">\n",
              "      <div>\n",
              "<style scoped>\n",
              "    .dataframe tbody tr th:only-of-type {\n",
              "        vertical-align: middle;\n",
              "    }\n",
              "\n",
              "    .dataframe tbody tr th {\n",
              "        vertical-align: top;\n",
              "    }\n",
              "\n",
              "    .dataframe thead th {\n",
              "        text-align: right;\n",
              "    }\n",
              "</style>\n",
              "<table border=\"1\" class=\"dataframe\">\n",
              "  <thead>\n",
              "    <tr style=\"text-align: right;\">\n",
              "      <th></th>\n",
              "      <th>MedInc</th>\n",
              "      <th>HouseAge</th>\n",
              "      <th>AveRooms</th>\n",
              "      <th>AveBedrms</th>\n",
              "      <th>Population</th>\n",
              "      <th>AveOccup</th>\n",
              "      <th>Latitude</th>\n",
              "      <th>Longitude</th>\n",
              "    </tr>\n",
              "  </thead>\n",
              "  <tbody>\n",
              "    <tr>\n",
              "      <th>count</th>\n",
              "      <td>20640.000000</td>\n",
              "      <td>20640.000000</td>\n",
              "      <td>20640.000000</td>\n",
              "      <td>20640.000000</td>\n",
              "      <td>20640.000000</td>\n",
              "      <td>20640.000000</td>\n",
              "      <td>20640.000000</td>\n",
              "      <td>20640.000000</td>\n",
              "    </tr>\n",
              "    <tr>\n",
              "      <th>mean</th>\n",
              "      <td>3.870671</td>\n",
              "      <td>28.639486</td>\n",
              "      <td>5.429000</td>\n",
              "      <td>1.096675</td>\n",
              "      <td>1425.476744</td>\n",
              "      <td>3.070655</td>\n",
              "      <td>35.631861</td>\n",
              "      <td>-119.569704</td>\n",
              "    </tr>\n",
              "    <tr>\n",
              "      <th>std</th>\n",
              "      <td>1.899822</td>\n",
              "      <td>12.585558</td>\n",
              "      <td>2.474173</td>\n",
              "      <td>0.473911</td>\n",
              "      <td>1132.462122</td>\n",
              "      <td>10.386050</td>\n",
              "      <td>2.135952</td>\n",
              "      <td>2.003532</td>\n",
              "    </tr>\n",
              "    <tr>\n",
              "      <th>min</th>\n",
              "      <td>0.499900</td>\n",
              "      <td>1.000000</td>\n",
              "      <td>0.846154</td>\n",
              "      <td>0.333333</td>\n",
              "      <td>3.000000</td>\n",
              "      <td>0.692308</td>\n",
              "      <td>32.540000</td>\n",
              "      <td>-124.350000</td>\n",
              "    </tr>\n",
              "    <tr>\n",
              "      <th>25%</th>\n",
              "      <td>2.563400</td>\n",
              "      <td>18.000000</td>\n",
              "      <td>4.440716</td>\n",
              "      <td>1.006079</td>\n",
              "      <td>787.000000</td>\n",
              "      <td>2.429741</td>\n",
              "      <td>33.930000</td>\n",
              "      <td>-121.800000</td>\n",
              "    </tr>\n",
              "    <tr>\n",
              "      <th>50%</th>\n",
              "      <td>3.534800</td>\n",
              "      <td>29.000000</td>\n",
              "      <td>5.229129</td>\n",
              "      <td>1.048780</td>\n",
              "      <td>1166.000000</td>\n",
              "      <td>2.818116</td>\n",
              "      <td>34.260000</td>\n",
              "      <td>-118.490000</td>\n",
              "    </tr>\n",
              "    <tr>\n",
              "      <th>75%</th>\n",
              "      <td>4.743250</td>\n",
              "      <td>37.000000</td>\n",
              "      <td>6.052381</td>\n",
              "      <td>1.099526</td>\n",
              "      <td>1725.000000</td>\n",
              "      <td>3.282261</td>\n",
              "      <td>37.710000</td>\n",
              "      <td>-118.010000</td>\n",
              "    </tr>\n",
              "    <tr>\n",
              "      <th>max</th>\n",
              "      <td>15.000100</td>\n",
              "      <td>52.000000</td>\n",
              "      <td>141.909091</td>\n",
              "      <td>34.066667</td>\n",
              "      <td>35682.000000</td>\n",
              "      <td>1243.333333</td>\n",
              "      <td>41.950000</td>\n",
              "      <td>-114.310000</td>\n",
              "    </tr>\n",
              "  </tbody>\n",
              "</table>\n",
              "</div>\n",
              "      <button class=\"colab-df-convert\" onclick=\"convertToInteractive('df-df46d400-03b4-46b6-b1e3-06578c955186')\"\n",
              "              title=\"Convert this dataframe to an interactive table.\"\n",
              "              style=\"display:none;\">\n",
              "        \n",
              "  <svg xmlns=\"http://www.w3.org/2000/svg\" height=\"24px\"viewBox=\"0 0 24 24\"\n",
              "       width=\"24px\">\n",
              "    <path d=\"M0 0h24v24H0V0z\" fill=\"none\"/>\n",
              "    <path d=\"M18.56 5.44l.94 2.06.94-2.06 2.06-.94-2.06-.94-.94-2.06-.94 2.06-2.06.94zm-11 1L8.5 8.5l.94-2.06 2.06-.94-2.06-.94L8.5 2.5l-.94 2.06-2.06.94zm10 10l.94 2.06.94-2.06 2.06-.94-2.06-.94-.94-2.06-.94 2.06-2.06.94z\"/><path d=\"M17.41 7.96l-1.37-1.37c-.4-.4-.92-.59-1.43-.59-.52 0-1.04.2-1.43.59L10.3 9.45l-7.72 7.72c-.78.78-.78 2.05 0 2.83L4 21.41c.39.39.9.59 1.41.59.51 0 1.02-.2 1.41-.59l7.78-7.78 2.81-2.81c.8-.78.8-2.07 0-2.86zM5.41 20L4 18.59l7.72-7.72 1.47 1.35L5.41 20z\"/>\n",
              "  </svg>\n",
              "      </button>\n",
              "      \n",
              "  <style>\n",
              "    .colab-df-container {\n",
              "      display:flex;\n",
              "      flex-wrap:wrap;\n",
              "      gap: 12px;\n",
              "    }\n",
              "\n",
              "    .colab-df-convert {\n",
              "      background-color: #E8F0FE;\n",
              "      border: none;\n",
              "      border-radius: 50%;\n",
              "      cursor: pointer;\n",
              "      display: none;\n",
              "      fill: #1967D2;\n",
              "      height: 32px;\n",
              "      padding: 0 0 0 0;\n",
              "      width: 32px;\n",
              "    }\n",
              "\n",
              "    .colab-df-convert:hover {\n",
              "      background-color: #E2EBFA;\n",
              "      box-shadow: 0px 1px 2px rgba(60, 64, 67, 0.3), 0px 1px 3px 1px rgba(60, 64, 67, 0.15);\n",
              "      fill: #174EA6;\n",
              "    }\n",
              "\n",
              "    [theme=dark] .colab-df-convert {\n",
              "      background-color: #3B4455;\n",
              "      fill: #D2E3FC;\n",
              "    }\n",
              "\n",
              "    [theme=dark] .colab-df-convert:hover {\n",
              "      background-color: #434B5C;\n",
              "      box-shadow: 0px 1px 3px 1px rgba(0, 0, 0, 0.15);\n",
              "      filter: drop-shadow(0px 1px 2px rgba(0, 0, 0, 0.3));\n",
              "      fill: #FFFFFF;\n",
              "    }\n",
              "  </style>\n",
              "\n",
              "      <script>\n",
              "        const buttonEl =\n",
              "          document.querySelector('#df-df46d400-03b4-46b6-b1e3-06578c955186 button.colab-df-convert');\n",
              "        buttonEl.style.display =\n",
              "          google.colab.kernel.accessAllowed ? 'block' : 'none';\n",
              "\n",
              "        async function convertToInteractive(key) {\n",
              "          const element = document.querySelector('#df-df46d400-03b4-46b6-b1e3-06578c955186');\n",
              "          const dataTable =\n",
              "            await google.colab.kernel.invokeFunction('convertToInteractive',\n",
              "                                                     [key], {});\n",
              "          if (!dataTable) return;\n",
              "\n",
              "          const docLinkHtml = 'Like what you see? Visit the ' +\n",
              "            '<a target=\"_blank\" href=https://colab.research.google.com/notebooks/data_table.ipynb>data table notebook</a>'\n",
              "            + ' to learn more about interactive tables.';\n",
              "          element.innerHTML = '';\n",
              "          dataTable['output_type'] = 'display_data';\n",
              "          await google.colab.output.renderOutput(dataTable, element);\n",
              "          const docLink = document.createElement('div');\n",
              "          docLink.innerHTML = docLinkHtml;\n",
              "          element.appendChild(docLink);\n",
              "        }\n",
              "      </script>\n",
              "    </div>\n",
              "  </div>\n",
              "  "
            ],
            "text/plain": [
              "             MedInc      HouseAge  ...      Latitude     Longitude\n",
              "count  20640.000000  20640.000000  ...  20640.000000  20640.000000\n",
              "mean       3.870671     28.639486  ...     35.631861   -119.569704\n",
              "std        1.899822     12.585558  ...      2.135952      2.003532\n",
              "min        0.499900      1.000000  ...     32.540000   -124.350000\n",
              "25%        2.563400     18.000000  ...     33.930000   -121.800000\n",
              "50%        3.534800     29.000000  ...     34.260000   -118.490000\n",
              "75%        4.743250     37.000000  ...     37.710000   -118.010000\n",
              "max       15.000100     52.000000  ...     41.950000   -114.310000\n",
              "\n",
              "[8 rows x 8 columns]"
            ]
          },
          "metadata": {},
          "execution_count": 106
        }
      ],
      "source": [
        "X_df.describe()"
      ]
    },
    {
      "cell_type": "code",
      "execution_count": 107,
      "metadata": {
        "id": "I3COgloUBt15",
        "colab": {
          "base_uri": "https://localhost:8080/"
        },
        "outputId": "5d1a093f-53ef-48d6-fd65-19a6c50850b0"
      },
      "outputs": [
        {
          "output_type": "execute_result",
          "data": {
            "text/plain": [
              "count    20640.000000\n",
              "mean         2.068558\n",
              "std          1.153956\n",
              "min          0.149990\n",
              "25%          1.196000\n",
              "50%          1.797000\n",
              "75%          2.647250\n",
              "max          5.000010\n",
              "Name: MedHouseVal, dtype: float64"
            ]
          },
          "metadata": {},
          "execution_count": 107
        }
      ],
      "source": [
        "y_df.describe()"
      ]
    },
    {
      "cell_type": "code",
      "execution_count": 108,
      "metadata": {
        "id": "3FBjif7WCWGm"
      },
      "outputs": [],
      "source": [
        "# ↑↑↑↑↑↑↑↑↑↑↑↑↑↑↑↑↑↑↑↑↑↑↑↑↑↑↑↑↑↑↑\n",
        "# your code goes above this"
      ]
    },
    {
      "cell_type": "markdown",
      "metadata": {
        "id": "upyDITE_B80k"
      },
      "source": [
        "2) Get all elements of the dataframe where the price is >= 200k$. You don't have to convert anything to numpy arrays."
      ]
    },
    {
      "cell_type": "code",
      "execution_count": 109,
      "metadata": {
        "id": "eY7D5xL6CTDc"
      },
      "outputs": [],
      "source": [
        "# your code goes below\n",
        "# ↓↓↓↓↓↓↓↓↓↓↓↓↓↓↓↓↓↓↓↓↓↓↓↓↓↓↓↓↓↓"
      ]
    },
    {
      "cell_type": "code",
      "execution_count": 110,
      "metadata": {
        "id": "IGSvhOJnB1nZ"
      },
      "outputs": [],
      "source": [
        "y_df = y_df[y_200k_mask]\n",
        "X_df = X_df[y_200k_mask]"
      ]
    },
    {
      "cell_type": "code",
      "execution_count": null,
      "metadata": {
        "id": "xL4QF6VFCFID"
      },
      "outputs": [],
      "source": [
        "# ↑↑↑↑↑↑↑↑↑↑↑↑↑↑↑↑↑↑↑↑↑↑↑↑↑↑↑↑↑↑↑\n",
        "# your code goes above this"
      ]
    },
    {
      "cell_type": "markdown",
      "metadata": {
        "id": "pIjfZCArC2PC"
      },
      "source": [
        "3) Plot the [histogram](https://pandas.pydata.org/pandas-docs/stable/reference/api/pandas.DataFrame.hist.html) of `X_df` and `y_df`."
      ]
    },
    {
      "cell_type": "code",
      "execution_count": null,
      "metadata": {
        "id": "vFbNAd4BHDzH"
      },
      "outputs": [],
      "source": [
        "# your code goes below\n",
        "# ↓↓↓↓↓↓↓↓↓↓↓↓↓↓↓↓↓↓↓↓↓↓↓↓↓↓↓↓↓↓↓"
      ]
    },
    {
      "cell_type": "code",
      "execution_count": 115,
      "metadata": {
        "id": "1DHUQFrWCbo3",
        "colab": {
          "base_uri": "https://localhost:8080/",
          "height": 454
        },
        "outputId": "1e57b17b-b912-4ab8-d6b2-0268639e9e39"
      },
      "outputs": [
        {
          "output_type": "execute_result",
          "data": {
            "text/plain": [
              "array([[<matplotlib.axes._subplots.AxesSubplot object at 0x7f028be641d0>,\n",
              "        <matplotlib.axes._subplots.AxesSubplot object at 0x7f028be25510>,\n",
              "        <matplotlib.axes._subplots.AxesSubplot object at 0x7f028bdd68d0>],\n",
              "       [<matplotlib.axes._subplots.AxesSubplot object at 0x7f028bd89dd0>,\n",
              "        <matplotlib.axes._subplots.AxesSubplot object at 0x7f028bd4d310>,\n",
              "        <matplotlib.axes._subplots.AxesSubplot object at 0x7f028bd01810>],\n",
              "       [<matplotlib.axes._subplots.AxesSubplot object at 0x7f028bcb6d90>,\n",
              "        <matplotlib.axes._subplots.AxesSubplot object at 0x7f028bc79210>,\n",
              "        <matplotlib.axes._subplots.AxesSubplot object at 0x7f028bc79250>]],\n",
              "      dtype=object)"
            ]
          },
          "metadata": {},
          "execution_count": 115
        },
        {
          "output_type": "display_data",
          "data": {
            "image/png": "[encoded data removed]",
            "text/plain": [
              "<Figure size 432x288 with 9 Axes>"
            ]
          },
          "metadata": {
            "needs_background": "light"
          }
        }
      ],
      "source": [
        "X_df.hist(bins=10)"
      ]
    },
    {
      "cell_type": "code",
      "execution_count": 116,
      "metadata": {
        "id": "Beddj-E0vneb",
        "colab": {
          "base_uri": "https://localhost:8080/",
          "height": 282
        },
        "outputId": "fe45243d-a185-4414-a3d3-12615de7b278"
      },
      "outputs": [
        {
          "output_type": "execute_result",
          "data": {
            "text/plain": [
              "<matplotlib.axes._subplots.AxesSubplot at 0x7f028ba68710>"
            ]
          },
          "metadata": {},
          "execution_count": 116
        },
        {
          "output_type": "display_data",
          "data": {
            "image/png": "[encoded data removed]",
            "text/plain": [
              "<Figure size 432x288 with 1 Axes>"
            ]
          },
          "metadata": {
            "needs_background": "light"
          }
        }
      ],
      "source": [
        "y_df.hist(bins=10)"
      ]
    },
    {
      "cell_type": "code",
      "execution_count": null,
      "metadata": {
        "id": "fsFgvzX-HFR8"
      },
      "outputs": [],
      "source": [
        "# ↑↑↑↑↑↑↑↑↑↑↑↑↑↑↑↑↑↑↑↑↑↑↑↑↑↑↑↑↑↑↑\n",
        "# your code goes above this"
      ]
    },
    {
      "cell_type": "markdown",
      "metadata": {
        "id": "iaE_V8xMWudm"
      },
      "source": [
        "# Solutions"
      ]
    },
    {
      "cell_type": "code",
      "execution_count": null,
      "metadata": {
        "id": "trJ4TtUyCwpC"
      },
      "outputs": [],
      "source": [
        "def fac_rec(n):\n",
        "  if n == 0:\n",
        "    return 1\n",
        "  elif n == 1:\n",
        "    return 1\n",
        "  else:\n",
        "    return n*fac_rec(n-1)"
      ]
    }
  ],
  "metadata": {
    "colab": {
      "collapsed_sections": [],
      "name": "Copy of 00_PythonPrimer.ipynb",
      "provenance": [],
      "include_colab_link": true
    },
    "kernelspec": {
      "display_name": "Python 3",
      "name": "python3"
    },
    "language_info": {
      "name": "python"
    }
  },
  "nbformat": 4,
  "nbformat_minor": 0
}